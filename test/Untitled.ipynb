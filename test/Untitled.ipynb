{
 "cells": [
  {
   "cell_type": "code",
   "execution_count": 2,
   "id": "5c13bb22",
   "metadata": {},
   "outputs": [],
   "source": [
    "from pandasql import sqldf"
   ]
  },
  {
   "cell_type": "code",
   "execution_count": 3,
   "id": "f48dad5b",
   "metadata": {},
   "outputs": [],
   "source": [
    "# import pandas\n",
    "import pandas as pd"
   ]
  },
  {
   "cell_type": "code",
   "execution_count": 8,
   "id": "8013b00b",
   "metadata": {},
   "outputs": [],
   "source": [
    "customer_df = pd.read_csv(r\"D:\\PowerBI\\Datasets\\World Wide Importers\\DimCustomer.csv\",skiprows=1)"
   ]
  },
  {
   "cell_type": "code",
   "execution_count": 9,
   "id": "e0e60076",
   "metadata": {},
   "outputs": [
    {
     "data": {
      "text/html": [
       "<div>\n",
       "<style scoped>\n",
       "    .dataframe tbody tr th:only-of-type {\n",
       "        vertical-align: middle;\n",
       "    }\n",
       "\n",
       "    .dataframe tbody tr th {\n",
       "        vertical-align: top;\n",
       "    }\n",
       "\n",
       "    .dataframe thead th {\n",
       "        text-align: right;\n",
       "    }\n",
       "</style>\n",
       "<table border=\"1\" class=\"dataframe\">\n",
       "  <thead>\n",
       "    <tr style=\"text-align: right;\">\n",
       "      <th></th>\n",
       "      <th>Customer Key</th>\n",
       "      <th>WWI Customer ID</th>\n",
       "      <th>Customer</th>\n",
       "      <th>Bill To Customer</th>\n",
       "      <th>Category</th>\n",
       "      <th>Buying Group</th>\n",
       "      <th>Primary Contact</th>\n",
       "      <th>Postal Code</th>\n",
       "      <th>Credit Limit</th>\n",
       "      <th>Valid From</th>\n",
       "      <th>Valid To</th>\n",
       "      <th>Lineage Key</th>\n",
       "    </tr>\n",
       "  </thead>\n",
       "  <tbody>\n",
       "    <tr>\n",
       "      <th>0</th>\n",
       "      <td>0</td>\n",
       "      <td>0</td>\n",
       "      <td>Unknown</td>\n",
       "      <td>NaN</td>\n",
       "      <td>NaN</td>\n",
       "      <td>NaN</td>\n",
       "      <td>NaN</td>\n",
       "      <td>NaN</td>\n",
       "      <td>? -</td>\n",
       "      <td>00:00.0</td>\n",
       "      <td>##############################################...</td>\n",
       "      <td>0</td>\n",
       "    </tr>\n",
       "    <tr>\n",
       "      <th>1</th>\n",
       "      <td>1</td>\n",
       "      <td>1</td>\n",
       "      <td>Tailspin Toys (Head Office)</td>\n",
       "      <td>Tailspin Toys (Head Office)</td>\n",
       "      <td>Novelty Shop</td>\n",
       "      <td>Tailspin Toys</td>\n",
       "      <td>Waldemar Fisar</td>\n",
       "      <td>90410.0</td>\n",
       "      <td>? 100,000.000000</td>\n",
       "      <td>00:00.0</td>\n",
       "      <td>##############################################...</td>\n",
       "      <td>2</td>\n",
       "    </tr>\n",
       "  </tbody>\n",
       "</table>\n",
       "</div>"
      ],
      "text/plain": [
       "   Customer Key  WWI Customer ID                     Customer  \\\n",
       "0             0                0                      Unknown   \n",
       "1             1                1  Tailspin Toys (Head Office)   \n",
       "\n",
       "              Bill To Customer      Category   Buying Group Primary Contact  \\\n",
       "0                          NaN           NaN            NaN             NaN   \n",
       "1  Tailspin Toys (Head Office)  Novelty Shop  Tailspin Toys  Waldemar Fisar   \n",
       "\n",
       "   Postal Code       Credit Limit  Valid From  \\\n",
       "0          NaN          ? -           00:00.0   \n",
       "1      90410.0   ? 100,000.000000     00:00.0   \n",
       "\n",
       "                                            Valid To  Lineage Key  \n",
       "0  ##############################################...            0  \n",
       "1  ##############################################...            2  "
      ]
     },
     "execution_count": 9,
     "metadata": {},
     "output_type": "execute_result"
    }
   ],
   "source": [
    "customer_df.head(2)"
   ]
  },
  {
   "cell_type": "code",
   "execution_count": 72,
   "id": "c22ab512",
   "metadata": {},
   "outputs": [],
   "source": [
    "q='''\n",
    "SELECT \"Customer Key\", \"Customer\", \"Postal Code\"\n",
    "FROM customer_df \n",
    "WHERE \n",
    "    \"Category\"=\"Novelty Shop\" and \"Buying Group\"=\"Tailspin Toys\" and \"Customer Key\">100 and Customer LIKE \"%CA)\"\n",
    "'''"
   ]
  },
  {
   "cell_type": "code",
   "execution_count": 81,
   "id": "98df4c62",
   "metadata": {},
   "outputs": [],
   "source": [
    "q2='''\n",
    "SELECT \"Postal Code\", COUNT(*)\n",
    "FROM customer_df\n",
    "GROUP BY \"Postal Code\"\n",
    "'''"
   ]
  },
  {
   "cell_type": "code",
   "execution_count": 83,
   "id": "5835b1b5",
   "metadata": {
    "scrolled": true
   },
   "outputs": [],
   "source": [
    "df_new=sqldf(q2, globals())"
   ]
  },
  {
   "cell_type": "code",
   "execution_count": 88,
   "id": "b2fb5a41",
   "metadata": {},
   "outputs": [],
   "source": [
    "pysqldf = lambda q: sqldf(q, globals())"
   ]
  },
  {
   "cell_type": "code",
   "execution_count": 91,
   "id": "f81e0908",
   "metadata": {},
   "outputs": [
    {
     "data": {
      "text/html": [
       "<div>\n",
       "<style scoped>\n",
       "    .dataframe tbody tr th:only-of-type {\n",
       "        vertical-align: middle;\n",
       "    }\n",
       "\n",
       "    .dataframe tbody tr th {\n",
       "        vertical-align: top;\n",
       "    }\n",
       "\n",
       "    .dataframe thead th {\n",
       "        text-align: right;\n",
       "    }\n",
       "</style>\n",
       "<table border=\"1\" class=\"dataframe\">\n",
       "  <thead>\n",
       "    <tr style=\"text-align: right;\">\n",
       "      <th></th>\n",
       "      <th>Postal Code</th>\n",
       "      <th>COUNT(*)</th>\n",
       "    </tr>\n",
       "  </thead>\n",
       "  <tbody>\n",
       "    <tr>\n",
       "      <th>0</th>\n",
       "      <td>NaN</td>\n",
       "      <td>1</td>\n",
       "    </tr>\n",
       "    <tr>\n",
       "      <th>1</th>\n",
       "      <td>90005.0</td>\n",
       "      <td>1</td>\n",
       "    </tr>\n",
       "    <tr>\n",
       "      <th>2</th>\n",
       "      <td>90008.0</td>\n",
       "      <td>1</td>\n",
       "    </tr>\n",
       "    <tr>\n",
       "      <th>3</th>\n",
       "      <td>90009.0</td>\n",
       "      <td>1</td>\n",
       "    </tr>\n",
       "    <tr>\n",
       "      <th>4</th>\n",
       "      <td>90010.0</td>\n",
       "      <td>2</td>\n",
       "    </tr>\n",
       "    <tr>\n",
       "      <th>...</th>\n",
       "      <td>...</td>\n",
       "      <td>...</td>\n",
       "    </tr>\n",
       "    <tr>\n",
       "      <th>313</th>\n",
       "      <td>90796.0</td>\n",
       "      <td>1</td>\n",
       "    </tr>\n",
       "    <tr>\n",
       "      <th>314</th>\n",
       "      <td>90797.0</td>\n",
       "      <td>2</td>\n",
       "    </tr>\n",
       "    <tr>\n",
       "      <th>315</th>\n",
       "      <td>90798.0</td>\n",
       "      <td>1</td>\n",
       "    </tr>\n",
       "    <tr>\n",
       "      <th>316</th>\n",
       "      <td>90799.0</td>\n",
       "      <td>1</td>\n",
       "    </tr>\n",
       "    <tr>\n",
       "      <th>317</th>\n",
       "      <td>90800.0</td>\n",
       "      <td>1</td>\n",
       "    </tr>\n",
       "  </tbody>\n",
       "</table>\n",
       "<p>318 rows × 2 columns</p>\n",
       "</div>"
      ],
      "text/plain": [
       "     Postal Code  COUNT(*)\n",
       "0            NaN         1\n",
       "1        90005.0         1\n",
       "2        90008.0         1\n",
       "3        90009.0         1\n",
       "4        90010.0         2\n",
       "..           ...       ...\n",
       "313      90796.0         1\n",
       "314      90797.0         2\n",
       "315      90798.0         1\n",
       "316      90799.0         1\n",
       "317      90800.0         1\n",
       "\n",
       "[318 rows x 2 columns]"
      ]
     },
     "execution_count": 91,
     "metadata": {},
     "output_type": "execute_result"
    }
   ],
   "source": [
    "pysqldf(q2)"
   ]
  },
  {
   "cell_type": "code",
   "execution_count": null,
   "id": "b0ae74eb",
   "metadata": {},
   "outputs": [],
   "source": []
  }
 ],
 "metadata": {
  "kernelspec": {
   "display_name": "Python 3 (ipykernel)",
   "language": "python",
   "name": "python3"
  },
  "language_info": {
   "codemirror_mode": {
    "name": "ipython",
    "version": 3
   },
   "file_extension": ".py",
   "mimetype": "text/x-python",
   "name": "python",
   "nbconvert_exporter": "python",
   "pygments_lexer": "ipython3",
   "version": "3.9.13"
  }
 },
 "nbformat": 4,
 "nbformat_minor": 5
}
