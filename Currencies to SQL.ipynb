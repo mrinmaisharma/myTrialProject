{
 "cells": [
  {
   "cell_type": "code",
   "execution_count": 1,
   "id": "becc8d6f",
   "metadata": {},
   "outputs": [
    {
     "name": "stdout",
     "output_type": "stream",
     "text": [
      "https://api.apilayer.com/fixer/timeseries?base=USD&start_date=2021-11-10&end_date=2022-11-10\n"
     ]
    }
   ],
   "source": [
    "import json\n",
    "import requests\n",
    "import pandas as pd\n",
    "from datetime import datetime,timedelta\n",
    "from shareplum import Site\n",
    "from shareplum import Office365\n",
    "from shareplum.site import Version\n",
    "\n",
    "headers={\n",
    "    'Content-Type':'application/json',\n",
    "    'apikey':'YJPz2n1diUZxEyN23za8rpHftnqEXa6n'\n",
    "}\n",
    "from_date=(datetime.now() - timedelta(days = 365)).strftime(\"%Y-%m-%d\")\n",
    "to_date=datetime.now().strftime(\"%Y-%m-%d\")\n",
    "dates=[\n",
    "    {\n",
    "        'from':from_date,\n",
    "        'to':to_date\n",
    "    },\n",
    "]\n",
    "df = pd.DataFrame()\n",
    "for dr in dates:\n",
    "    url=f\"https://api.apilayer.com/fixer/timeseries?base=USD&start_date={dr['from']}&end_date={dr['to']}\"\n",
    "    print(url)\n",
    "    r=requests.get(url, headers=headers)\n",
    "    if(r.status_code == requests.codes.ok):\n",
    "        for e in r.json()['rates']:\n",
    "            temp_df=pd.DataFrame.from_dict(r.json()['rates'][e], orient=\"index\", columns=['rate'])\n",
    "            temp_df.reset_index(inplace=True)\n",
    "            temp_df.rename(columns={'index':'code'},inplace=True)\n",
    "            temp_df['rate']=1/temp_df['rate']\n",
    "            temp_df['rate']=round(temp_df['rate'],4)\n",
    "            temp_df['datekey']=datetime.strptime(e, \"%Y-%m-%d\").strftime(\"%Y%m%d\")\n",
    "            df=pd.concat([df,temp_df])"
   ]
  },
  {
   "cell_type": "code",
   "execution_count": 2,
   "id": "577748ab",
   "metadata": {},
   "outputs": [
    {
     "data": {
      "text/html": [
       "<div>\n",
       "<style scoped>\n",
       "    .dataframe tbody tr th:only-of-type {\n",
       "        vertical-align: middle;\n",
       "    }\n",
       "\n",
       "    .dataframe tbody tr th {\n",
       "        vertical-align: top;\n",
       "    }\n",
       "\n",
       "    .dataframe thead th {\n",
       "        text-align: right;\n",
       "    }\n",
       "</style>\n",
       "<table border=\"1\" class=\"dataframe\">\n",
       "  <thead>\n",
       "    <tr style=\"text-align: right;\">\n",
       "      <th></th>\n",
       "      <th>code</th>\n",
       "      <th>rate</th>\n",
       "      <th>datekey</th>\n",
       "    </tr>\n",
       "  </thead>\n",
       "  <tbody>\n",
       "    <tr>\n",
       "      <th>0</th>\n",
       "      <td>AED</td>\n",
       "      <td>0.2722</td>\n",
       "      <td>20211110</td>\n",
       "    </tr>\n",
       "    <tr>\n",
       "      <th>1</th>\n",
       "      <td>AFN</td>\n",
       "      <td>0.0109</td>\n",
       "      <td>20211110</td>\n",
       "    </tr>\n",
       "    <tr>\n",
       "      <th>2</th>\n",
       "      <td>ALL</td>\n",
       "      <td>0.0094</td>\n",
       "      <td>20211110</td>\n",
       "    </tr>\n",
       "    <tr>\n",
       "      <th>3</th>\n",
       "      <td>AMD</td>\n",
       "      <td>0.0021</td>\n",
       "      <td>20211110</td>\n",
       "    </tr>\n",
       "    <tr>\n",
       "      <th>4</th>\n",
       "      <td>ANG</td>\n",
       "      <td>0.5549</td>\n",
       "      <td>20211110</td>\n",
       "    </tr>\n",
       "  </tbody>\n",
       "</table>\n",
       "</div>"
      ],
      "text/plain": [
       "  code    rate   datekey\n",
       "0  AED  0.2722  20211110\n",
       "1  AFN  0.0109  20211110\n",
       "2  ALL  0.0094  20211110\n",
       "3  AMD  0.0021  20211110\n",
       "4  ANG  0.5549  20211110"
      ]
     },
     "execution_count": 2,
     "metadata": {},
     "output_type": "execute_result"
    }
   ],
   "source": [
    "df.head(5)"
   ]
  },
  {
   "cell_type": "code",
   "execution_count": 3,
   "id": "fae10e16",
   "metadata": {},
   "outputs": [],
   "source": [
    "# authcookie = Office365('https://tolaramsg.sharepoint.com', username='mrinmai.sharma@kelloggtolaram.com', password='Arbre@123#').GetCookies()\n",
    "# site = Site('https://tolaramsg.sharepoint.com/sites/KelloggEswatini', version=Version.v2016, authcookie=authcookie)\n",
    "# curr_list = site.List('Currencies')"
   ]
  },
  {
   "cell_type": "code",
   "execution_count": 4,
   "id": "55d604a1",
   "metadata": {},
   "outputs": [],
   "source": [
    "# for item in curr_list.get_list_items():\n",
    "#     curr=item['CurrencyCode']\n",
    "#     datekey=datetime.now().strftime(\"%Y%m%d\")\n",
    "#     try:\n",
    "#         rate=df[(df['datekey']==datekey) & (df['code']==curr)].rate.item()\n",
    "#         itemId=item['ID']\n",
    "#         data=[{'ID':itemId,'ZAR_Rate':rate}]\n",
    "#         curr_list.UpdateListItems(data=data,kind='Update')\n",
    "#         print(curr,rate)\n",
    "#     except BaseException as e:\n",
    "#         print(e)\n",
    "#         continue"
   ]
  },
  {
   "cell_type": "code",
   "execution_count": 7,
   "id": "07715c39",
   "metadata": {},
   "outputs": [],
   "source": [
    "import pyodbc"
   ]
  },
  {
   "cell_type": "code",
   "execution_count": 3,
   "id": "65ded96c",
   "metadata": {},
   "outputs": [
    {
     "ename": "NameError",
     "evalue": "name 'pyodbc' is not defined",
     "output_type": "error",
     "traceback": [
      "\u001b[1;31m---------------------------------------------------------------------------\u001b[0m",
      "\u001b[1;31mNameError\u001b[0m                                 Traceback (most recent call last)",
      "Input \u001b[1;32mIn [3]\u001b[0m, in \u001b[0;36m<cell line: 6>\u001b[1;34m()\u001b[0m\n\u001b[0;32m      4\u001b[0m password \u001b[38;5;241m=\u001b[39m \u001b[38;5;124m'\u001b[39m\u001b[38;5;132;01m{xGQmXxTCgqmweV9}\u001b[39;00m\u001b[38;5;124m'\u001b[39m   \n\u001b[0;32m      5\u001b[0m driver\u001b[38;5;241m=\u001b[39m \u001b[38;5;124m'\u001b[39m\u001b[38;5;124m{\u001b[39m\u001b[38;5;124mODBC Driver 17 for SQL Server}\u001b[39m\u001b[38;5;124m'\u001b[39m\n\u001b[1;32m----> 6\u001b[0m \u001b[38;5;28;01mwith\u001b[39;00m \u001b[43mpyodbc\u001b[49m\u001b[38;5;241m.\u001b[39mconnect(\u001b[38;5;124m'\u001b[39m\u001b[38;5;124mDRIVER=\u001b[39m\u001b[38;5;124m'\u001b[39m\u001b[38;5;241m+\u001b[39mdriver\u001b[38;5;241m+\u001b[39m\u001b[38;5;124m'\u001b[39m\u001b[38;5;124m;SERVER=tcp:\u001b[39m\u001b[38;5;124m'\u001b[39m\u001b[38;5;241m+\u001b[39mserver\u001b[38;5;241m+\u001b[39m\u001b[38;5;124m'\u001b[39m\u001b[38;5;124m;PORT=1433;DATABASE=\u001b[39m\u001b[38;5;124m'\u001b[39m\u001b[38;5;241m+\u001b[39mdatabase\u001b[38;5;241m+\u001b[39m\u001b[38;5;124m'\u001b[39m\u001b[38;5;124m;UID=\u001b[39m\u001b[38;5;124m'\u001b[39m\u001b[38;5;241m+\u001b[39musername\u001b[38;5;241m+\u001b[39m\u001b[38;5;124m'\u001b[39m\u001b[38;5;124m;PWD=\u001b[39m\u001b[38;5;124m'\u001b[39m\u001b[38;5;241m+\u001b[39m password) \u001b[38;5;28;01mas\u001b[39;00m conn:\n\u001b[0;32m      7\u001b[0m     \u001b[38;5;28;01mwith\u001b[39;00m conn\u001b[38;5;241m.\u001b[39mcursor() \u001b[38;5;28;01mas\u001b[39;00m cursor:\n\u001b[0;32m      8\u001b[0m         \u001b[38;5;28;01mfor\u001b[39;00m index, row \u001b[38;5;129;01min\u001b[39;00m df\u001b[38;5;241m.\u001b[39miterrows():\n\u001b[0;32m      9\u001b[0m \u001b[38;5;66;03m#             print(f\"UPDATE currencies SET rate={row['rate']} WHERE code='{row['code']}'\")\u001b[39;00m\n",
      "\u001b[1;31mNameError\u001b[0m: name 'pyodbc' is not defined"
     ]
    }
   ],
   "source": [
    "server = 'arbre.database.windows.net'\n",
    "database = 'budgeto'\n",
    "username = 'arbredev'\n",
    "password = '{xGQmXxTCgqmweV9}'   \n",
    "driver= '{ODBC Driver 17 for SQL Server}'\n",
    "with pyodbc.connect('DRIVER='+driver+';SERVER=tcp:'+server+';PORT=1433;DATABASE='+database+';UID='+username+';PWD='+ password) as conn:\n",
    "    with conn.cursor() as cursor:\n",
    "        for index, row in df.iterrows():\n",
    "#             print(f\"UPDATE currencies SET rate={row['rate']} WHERE code='{row['code']}'\")\n",
    "            cursor.execute(f\"UPDATE currencies SET rate={row['rate']} WHERE code='{row['code']}'\")"
   ]
  },
  {
   "cell_type": "code",
   "execution_count": null,
   "id": "38e97b47",
   "metadata": {},
   "outputs": [],
   "source": []
  }
 ],
 "metadata": {
  "kernelspec": {
   "display_name": "Python 3 (ipykernel)",
   "language": "python",
   "name": "python3"
  },
  "language_info": {
   "codemirror_mode": {
    "name": "ipython",
    "version": 3
   },
   "file_extension": ".py",
   "mimetype": "text/x-python",
   "name": "python",
   "nbconvert_exporter": "python",
   "pygments_lexer": "ipython3",
   "version": "3.9.13"
  }
 },
 "nbformat": 4,
 "nbformat_minor": 5
}
